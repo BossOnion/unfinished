{
 "cells": [
  {
   "attachments": {},
   "cell_type": "markdown",
   "id": "6e371127",
   "metadata": {},
   "source": [
    "### 0 使用GPU进行模型训练"
   ]
  },
  {
   "cell_type": "code",
   "execution_count": 1,
   "id": "ab31ba34",
   "metadata": {},
   "outputs": [
    {
     "name": "stderr",
     "output_type": "stream",
     "text": [
      "Using TensorFlow backend.\n"
     ]
    }
   ],
   "source": [
    "import keras\n",
    "from keras.datasets import mnist\n",
    "import numpy as np\n",
    "import tensorflow as tf\n",
    "from tensorflow.keras import layers, models\n",
    "# print('tensorflow version:',tf.__version__)  # 查看TensorFlow的版本\n",
    "# print('===================================================')\n",
    "# print('cuda available:',tf.test.is_built_with_cuda()) # 判断CUDA是否可用\n",
    "# print('===================================================')\n",
    "# print(tf.test.is_gpu_available())  # 查看cuda、TensorFlow_GPU和cudnn(选择下载，cuda对深度学习的补充)版本是否对应\n",
    "# print('===================================================')\n",
    "gpus = tf.config.experimental.list_physical_devices(device_type='GPU') # 查看可用GPU\n",
    "# print(gpus)\n",
    "import os\n",
    "#选择使用某一块或多块GPU\n",
    "#os.environ[\"CUDA_VISIBLE_DEVICES\"] = \"0,1\"  # =右边\"0,1\",代表使用标号为0,和1的GPU\n",
    "os.environ[\"CUDA_VISIBLE_DEVICES\"] = \"0\"  # =右边\"0\",代表使用标号为0的GPU\n",
    "# 查看可用GPU的详细信息\n",
    "from tensorflow.python.client import device_lib\n",
    "# print(device_lib.list_local_devices())\n",
    "#  这时候在运行相应的代码，就可以看到在GPU上运行了。可以通过任务管理器-性能处查看GPU使用率。"
   ]
  },
  {
   "attachments": {},
   "cell_type": "markdown",
   "id": "7cbd55a3",
   "metadata": {},
   "source": [
    "### 1 数据预处理"
   ]
  },
  {
   "cell_type": "code",
   "execution_count": 2,
   "id": "84afdd66",
   "metadata": {},
   "outputs": [
    {
     "name": "stdout",
     "output_type": "stream",
     "text": [
      "训练集 (60000, 28, 28) (60000,)\n",
      "测试集 (10000, 28, 28) (10000,)\n"
     ]
    }
   ],
   "source": [
    "\n",
    "(train_images, train_labels), (test_images, test_labels) =mnist.load_data(\"mnist.npz\")\n",
    "print('训练集',train_images.shape,train_labels.shape)\n",
    "print('测试集',test_images.shape,test_labels.shape)\n",
    "\n",
    "img_row,img_col,channel = 28,28,1 # 图像的 高(行row),宽(列col),通道 = 28,28,1\n",
    "\n",
    "#将数据维度进行处理\n",
    "train_images = train_images.reshape(train_images.shape[0],img_row,img_col,channel) # 1,28,28,1\n",
    "test_images = test_images.reshape(test_images.shape[0],img_row,img_col,channel) # 1,28,28,1\n",
    "\n",
    "train_images = train_images.astype(\"float32\") \n",
    "test_images = test_images.astype(\"float32\")\n",
    "\n",
    "## 进行归一化处理\n",
    "train_images  /= 255    \n",
    "test_images /= 255  # test_images = test_images/255"
   ]
  },
  {
   "attachments": {},
   "cell_type": "markdown",
   "id": "d1c75ed1",
   "metadata": {},
   "source": [
    "### 2 构建LeNet-5模型并训练"
   ]
  },
  {
   "cell_type": "code",
   "execution_count": 3,
   "id": "1d7b7c89",
   "metadata": {},
   "outputs": [
    {
     "name": "stdout",
     "output_type": "stream",
     "text": [
      "Epoch 1/5\n",
      "3000/3000 [==============================] - 6s 2ms/step - loss: 0.1523 - accuracy: 0.9527 - val_loss: 0.0500 - val_accuracy: 0.9838\n",
      "Epoch 2/5\n",
      "3000/3000 [==============================] - 6s 2ms/step - loss: 0.0561 - accuracy: 0.9826 - val_loss: 0.0512 - val_accuracy: 0.9825\n",
      "Epoch 3/5\n",
      "3000/3000 [==============================] - 6s 2ms/step - loss: 0.0378 - accuracy: 0.9879 - val_loss: 0.0445 - val_accuracy: 0.9841\n",
      "Epoch 4/5\n",
      "3000/3000 [==============================] - 6s 2ms/step - loss: 0.0289 - accuracy: 0.9911 - val_loss: 0.0362 - val_accuracy: 0.9866\n",
      "Epoch 5/5\n",
      "3000/3000 [==============================] - 6s 2ms/step - loss: 0.0216 - accuracy: 0.9926 - val_loss: 0.0266 - val_accuracy: 0.9906\n"
     ]
    },
    {
     "data": {
      "text/plain": [
       "<tensorflow.python.keras.callbacks.History at 0x1bb60577908>"
      ]
     },
     "execution_count": 3,
     "metadata": {},
     "output_type": "execute_result"
    }
   ],
   "source": [
    "#构建模型\n",
    "model = models.Sequential()\n",
    "model.add(layers.Conv2D(8, (3, 3), strides=(1, 1), padding='same', activation='relu', input_shape=(28, 28, 1),name='conv1'))\n",
    "# model.add(layers.BatchNormalization()) # 批量归一化\n",
    "model.add(layers.MaxPooling2D(pool_size=(2, 2), name='pool1'))\n",
    "model.add(layers.Conv2D(16, (3, 3), strides=(1, 1), padding='same',activation='relu',name='conv2'))\n",
    "# model.add(layers.BatchNormalization()) # 批量归一化\n",
    "model.add(layers.MaxPooling2D(pool_size=(2, 2), name='pool2'))\n",
    "model.add(layers.Flatten())\n",
    "model.add(layers.Dense(128, activation='relu',name='fc1'))\n",
    "model.add(layers.Dense(10, activation='softmax',name='fc2'))\n",
    "\n",
    "# 编译并训练\n",
    "model.compile(optimizer='adam',\n",
    "              loss='sparse_categorical_crossentropy',\n",
    "              metrics=['accuracy'])\n",
    "\n",
    "model.fit(train_images, train_labels,epochs=5, batch_size=20, validation_data=(test_images,test_labels))\n",
    "\n"
   ]
  },
  {
   "attachments": {},
   "cell_type": "markdown",
   "id": "93870a8b",
   "metadata": {},
   "source": [
    "### 3 保存LeNet-5模型为h5格式"
   ]
  },
  {
   "cell_type": "code",
   "execution_count": 4,
   "id": "5f4df82c",
   "metadata": {},
   "outputs": [
    {
     "name": "stdout",
     "output_type": "stream",
     "text": [
      "Model: \"sequential\"\n",
      "_________________________________________________________________\n",
      "Layer (type)                 Output Shape              Param #   \n",
      "=================================================================\n",
      "conv1 (Conv2D)               (None, 28, 28, 8)         80        \n",
      "_________________________________________________________________\n",
      "pool1 (MaxPooling2D)         (None, 14, 14, 8)         0         \n",
      "_________________________________________________________________\n",
      "conv2 (Conv2D)               (None, 14, 14, 16)        1168      \n",
      "_________________________________________________________________\n",
      "pool2 (MaxPooling2D)         (None, 7, 7, 16)          0         \n",
      "_________________________________________________________________\n",
      "flatten (Flatten)            (None, 784)               0         \n",
      "_________________________________________________________________\n",
      "fc1 (Dense)                  (None, 128)               100480    \n",
      "_________________________________________________________________\n",
      "fc2 (Dense)                  (None, 10)                1290      \n",
      "=================================================================\n",
      "Total params: 103,018\n",
      "Trainable params: 103,018\n",
      "Non-trainable params: 0\n",
      "_________________________________________________________________\n"
     ]
    }
   ],
   "source": [
    "# 显示模型信息\n",
    "model.summary()\n",
    "# 保存模型\n",
    "model.save('lenet_GPU.h5')"
   ]
  },
  {
   "attachments": {},
   "cell_type": "markdown",
   "id": "7e56edf5",
   "metadata": {},
   "source": [
    "### 4 将h5格式的模型转换为tflite格式"
   ]
  },
  {
   "cell_type": "code",
   "execution_count": 5,
   "id": "29340dad",
   "metadata": {},
   "outputs": [
    {
     "data": {
      "text/plain": [
       "414744"
      ]
     },
     "execution_count": 5,
     "metadata": {},
     "output_type": "execute_result"
    }
   ],
   "source": [
    "\n",
    "keras_model = tf.keras.models.load_model('lenet_GPU.h5')\n",
    "converter = tf.lite.TFLiteConverter.from_keras_model(keras_model)\n",
    "converter.target_spec.supported_ops = [\n",
    "  tf.lite.OpsSet.TFLITE_BUILTINS, # enable TensorFlow Lite ops.\n",
    "  tf.lite.OpsSet.SELECT_TF_OPS # enable TensorFlow ops.\n",
    "]\n",
    "tflite_model = converter.convert()\n",
    "tflite_name = \"lenet_GPU.tflite\"\n",
    "open(tflite_name, \"wb\").write(tflite_model)"
   ]
  },
  {
   "cell_type": "code",
   "execution_count": 6,
   "id": "d51c9056",
   "metadata": {},
   "outputs": [],
   "source": [
    "# TFLite是一个用于在移动设备和边缘设备上部署机器学习模型的框架。在TFLite中，将模型的权重和偏差量化为8位整数可以显著减少模型的大小，从而提高模型的性能和效率。\n",
    "# 然而，当将模型量化为int8时，偏差的值可能会超过127，这是因为偏差是在训练过程中学习的，并且可能具有比权重更广泛的分布。\n",
    "# 如果将偏差强制限制为小于等于127，可能会导致精度损失或性能下降。"
   ]
  },
  {
   "attachments": {},
   "cell_type": "markdown",
   "id": "d3505f26",
   "metadata": {},
   "source": [
    "### 5 将h5模型量化为int8的tflite模型"
   ]
  },
  {
   "attachments": {},
   "cell_type": "markdown",
   "id": "c38de9f3",
   "metadata": {},
   "source": [
    "量化策略：DEFAULT"
   ]
  },
  {
   "cell_type": "code",
   "execution_count": 6,
   "id": "a4f743bd",
   "metadata": {},
   "outputs": [
    {
     "data": {
      "text/plain": [
       "106704"
      ]
     },
     "execution_count": 6,
     "metadata": {},
     "output_type": "execute_result"
    }
   ],
   "source": [
    "# 加载Keras模型\n",
    "keras_model = tf.keras.models.load_model('lenet_GPU.h5')\n",
    "converter_quant = tf.lite.TFLiteConverter.from_keras_model(keras_model)\n",
    "converter_quant.target_spec.supported_ops = [\n",
    "  tf.lite.OpsSet.TFLITE_BUILTINS, # enable TensorFlow Lite ops.\n",
    "  tf.lite.OpsSet.SELECT_TF_OPS # enable TensorFlow ops.\n",
    "  ]\n",
    "# set the optimization parameters for TensorFlow Lite conversion\n",
    "converter_quant.optimizations = [tf.lite.Optimize.DEFAULT]\n",
    "\n",
    "# convert the model to TensorFlow Lite format with float32 activations and int8 weights\n",
    "quanitfied_defult_model = converter_quant.convert()\n",
    "\n",
    "#保存转换后的模型\n",
    "quanitfied_defult_name = \"lenet_GPU_quanitfied.tflite\"\n",
    "open(quanitfied_defult_name, \"wb\").write(quanitfied_defult_model)"
   ]
  },
  {
   "attachments": {},
   "cell_type": "markdown",
   "id": "e2b59896",
   "metadata": {},
   "source": [
    "### 6 模型验证"
   ]
  },
  {
   "cell_type": "code",
   "execution_count": 8,
   "id": "d3b145d1",
   "metadata": {},
   "outputs": [],
   "source": [
    "def evaluate_model(interpreter_path):\n",
    "    #加载模型并分配张量\n",
    "    interpreter = tf.lite.Interpreter(model_path=interpreter_path)\n",
    "    interpreter.allocate_tensors()\n",
    "\n",
    "    #获得输入输出张量.\n",
    "    input_details = interpreter.get_input_details()\n",
    "    output_details = interpreter.get_output_details()\n",
    "\n",
    "    index = input_details[0]['index']\n",
    "    shape = input_details[0]['shape']\n",
    "    acc_count = 0\n",
    "    image_count = test_images.shape[0]\n",
    "    for i in range(image_count):\n",
    "        #interpreter.set_tensor(index, test_images[i].reshape(shape).astype(\"float32\"))\n",
    "        interpreter.set_tensor(index, (test_images[i].reshape(shape)*255).astype(\"float32\"))\n",
    "        interpreter.invoke()\n",
    "        output_data = interpreter.get_tensor(output_details[0]['index'])\n",
    "        label = np.argmax(output_data)\n",
    "        if label == test_labels[i]:\n",
    "            acc_count += 1\n",
    "    print(\"test_images accuracy is {:.2%}\".format(acc_count/(image_count)))\n"
   ]
  },
  {
   "cell_type": "code",
   "execution_count": 9,
   "id": "144dce19",
   "metadata": {},
   "outputs": [
    {
     "name": "stdout",
     "output_type": "stream",
     "text": [
      "tflite\n",
      "test_images accuracy is 98.98%\n"
     ]
    }
   ],
   "source": [
    "print('tflite')\n",
    "evaluate_model('lenet_GPU.tflite')"
   ]
  },
  {
   "cell_type": "code",
   "execution_count": 10,
   "id": "b502387c",
   "metadata": {},
   "outputs": [
    {
     "name": "stdout",
     "output_type": "stream",
     "text": [
      "tflite_quanitfied\n",
      "test_images accuracy is 98.99%\n"
     ]
    }
   ],
   "source": [
    "\n",
    "print('tflite_quanitfied')\n",
    "evaluate_model('lenet_GPU_quanitfied.tflite')"
   ]
  },
  {
   "cell_type": "code",
   "execution_count": null,
   "id": "e30c0760",
   "metadata": {},
   "outputs": [],
   "source": []
  }
 ],
 "metadata": {
  "kernelspec": {
   "display_name": "Python 3 (ipykernel)",
   "language": "python",
   "name": "python3"
  },
  "language_info": {
   "codemirror_mode": {
    "name": "ipython",
    "version": 3
   },
   "file_extension": ".py",
   "mimetype": "text/x-python",
   "name": "python",
   "nbconvert_exporter": "python",
   "pygments_lexer": "ipython3",
   "version": "3.7.16"
  }
 },
 "nbformat": 4,
 "nbformat_minor": 5
}
